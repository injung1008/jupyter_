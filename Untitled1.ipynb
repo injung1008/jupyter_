{
 "cells": [
  {
   "cell_type": "code",
   "execution_count": 2,
   "id": "0dd68cd5",
   "metadata": {},
   "outputs": [],
   "source": [
    "import pandas as pd\n",
    "import numpy as np\n",
    "import random\n",
    "import string\n",
    "np.random.seed(56)"
   ]
  },
  {
   "cell_type": "code",
   "execution_count": 3,
   "id": "fc267b00",
   "metadata": {},
   "outputs": [],
   "source": [
    "def id():\n",
    "    return ''.join(random.choice(string.ascii_letters) for i in range(5))"
   ]
  },
  {
   "cell_type": "code",
   "execution_count": 4,
   "id": "6d6d1517",
   "metadata": {},
   "outputs": [
    {
     "data": {
      "text/plain": [
       "'tyxmW'"
      ]
     },
     "execution_count": 4,
     "metadata": {},
     "output_type": "execute_result"
    }
   ],
   "source": [
    "id()"
   ]
  },
  {
   "cell_type": "code",
   "execution_count": 5,
   "id": "afe10c39",
   "metadata": {},
   "outputs": [],
   "source": [
    "def score():\n",
    "    return np.random.randint(0,100)"
   ]
  },
  {
   "cell_type": "code",
   "execution_count": 6,
   "id": "de8bd7db",
   "metadata": {},
   "outputs": [
    {
     "data": {
      "text/plain": [
       "85"
      ]
     },
     "execution_count": 6,
     "metadata": {},
     "output_type": "execute_result"
    }
   ],
   "source": [
    "score()"
   ]
  },
  {
   "cell_type": "code",
   "execution_count": 7,
   "id": "b8c044ec",
   "metadata": {},
   "outputs": [
    {
     "data": {
      "text/html": [
       "<div>\n",
       "<style scoped>\n",
       "    .dataframe tbody tr th:only-of-type {\n",
       "        vertical-align: middle;\n",
       "    }\n",
       "\n",
       "    .dataframe tbody tr th {\n",
       "        vertical-align: top;\n",
       "    }\n",
       "\n",
       "    .dataframe thead th {\n",
       "        text-align: right;\n",
       "    }\n",
       "</style>\n",
       "<table border=\"1\" class=\"dataframe\">\n",
       "  <thead>\n",
       "    <tr style=\"text-align: right;\">\n",
       "      <th></th>\n",
       "      <th>국어</th>\n",
       "      <th>영어</th>\n",
       "      <th>수학</th>\n",
       "      <th>사회</th>\n",
       "    </tr>\n",
       "  </thead>\n",
       "  <tbody>\n",
       "    <tr>\n",
       "      <th>Dnwjd</th>\n",
       "      <td>15</td>\n",
       "      <td>64</td>\n",
       "      <td>34</td>\n",
       "      <td>14</td>\n",
       "    </tr>\n",
       "    <tr>\n",
       "      <th>ZjxVz</th>\n",
       "      <td>87</td>\n",
       "      <td>22</td>\n",
       "      <td>57</td>\n",
       "      <td>90</td>\n",
       "    </tr>\n",
       "    <tr>\n",
       "      <th>KwYag</th>\n",
       "      <td>55</td>\n",
       "      <td>24</td>\n",
       "      <td>12</td>\n",
       "      <td>66</td>\n",
       "    </tr>\n",
       "    <tr>\n",
       "      <th>qbLVI</th>\n",
       "      <td>43</td>\n",
       "      <td>11</td>\n",
       "      <td>80</td>\n",
       "      <td>33</td>\n",
       "    </tr>\n",
       "    <tr>\n",
       "      <th>TWEEd</th>\n",
       "      <td>89</td>\n",
       "      <td>10</td>\n",
       "      <td>31</td>\n",
       "      <td>28</td>\n",
       "    </tr>\n",
       "    <tr>\n",
       "      <th>RMaDe</th>\n",
       "      <td>37</td>\n",
       "      <td>34</td>\n",
       "      <td>15</td>\n",
       "      <td>28</td>\n",
       "    </tr>\n",
       "    <tr>\n",
       "      <th>NfbDP</th>\n",
       "      <td>89</td>\n",
       "      <td>19</td>\n",
       "      <td>69</td>\n",
       "      <td>41</td>\n",
       "    </tr>\n",
       "    <tr>\n",
       "      <th>WWgUI</th>\n",
       "      <td>66</td>\n",
       "      <td>74</td>\n",
       "      <td>65</td>\n",
       "      <td>16</td>\n",
       "    </tr>\n",
       "    <tr>\n",
       "      <th>zCrOC</th>\n",
       "      <td>13</td>\n",
       "      <td>20</td>\n",
       "      <td>44</td>\n",
       "      <td>32</td>\n",
       "    </tr>\n",
       "    <tr>\n",
       "      <th>faghU</th>\n",
       "      <td>8</td>\n",
       "      <td>29</td>\n",
       "      <td>94</td>\n",
       "      <td>78</td>\n",
       "    </tr>\n",
       "  </tbody>\n",
       "</table>\n",
       "</div>"
      ],
      "text/plain": [
       "       국어  영어  수학  사회\n",
       "Dnwjd  15  64  34  14\n",
       "ZjxVz  87  22  57  90\n",
       "KwYag  55  24  12  66\n",
       "qbLVI  43  11  80  33\n",
       "TWEEd  89  10  31  28\n",
       "RMaDe  37  34  15  28\n",
       "NfbDP  89  19  69  41\n",
       "WWgUI  66  74  65  16\n",
       "zCrOC  13  20  44  32\n",
       "faghU   8  29  94  78"
      ]
     },
     "execution_count": 7,
     "metadata": {},
     "output_type": "execute_result"
    }
   ],
   "source": [
    "pd.DataFrame([[score() for i in range(1,5)]for i in range(1,11)], index=[id() for i in range(1, 11)], columns=['국어','영어','수학','사회'])"
   ]
  },
  {
   "cell_type": "code",
   "execution_count": null,
   "id": "211bcb69",
   "metadata": {},
   "outputs": [],
   "source": []
  }
 ],
 "metadata": {
  "kernelspec": {
   "display_name": "Python 3",
   "language": "python",
   "name": "python3"
  },
  "language_info": {
   "codemirror_mode": {
    "name": "ipython",
    "version": 3
   },
   "file_extension": ".py",
   "mimetype": "text/x-python",
   "name": "python",
   "nbconvert_exporter": "python",
   "pygments_lexer": "ipython3",
   "version": "3.8.8"
  }
 },
 "nbformat": 4,
 "nbformat_minor": 5
}
